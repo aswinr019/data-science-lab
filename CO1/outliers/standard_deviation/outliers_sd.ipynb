{
  "nbformat": 4,
  "nbformat_minor": 0,
  "metadata": {
    "colab": {
      "provenance": []
    },
    "kernelspec": {
      "name": "python3",
      "display_name": "Python 3"
    },
    "language_info": {
      "name": "python"
    }
  },
  "cells": [
    {
      "cell_type": "code",
      "execution_count": 1,
      "metadata": {
        "id": "FdRil_igwahI",
        "colab": {
          "base_uri": "https://localhost:8080/"
        },
        "outputId": "55c5c9a9-23ab-4647-f2df-9a96583d6b39"
      },
      "outputs": [
        {
          "output_type": "stream",
          "name": "stdout",
          "text": [
            "Mounted at /content/drive\n"
          ]
        }
      ],
      "source": [
        "from google.colab import drive\n",
        "drive.mount('/content/drive')"
      ]
    },
    {
      "cell_type": "code",
      "source": [
        "import pandas as pd"
      ],
      "metadata": {
        "id": "2rd7PY_Jw6Ox"
      },
      "execution_count": 2,
      "outputs": []
    },
    {
      "cell_type": "code",
      "source": [
        "data_frame =  pd.read_csv('/content/drive/My Drive/weightdata.csv')"
      ],
      "metadata": {
        "id": "9U95nTwDw8Dw"
      },
      "execution_count": 3,
      "outputs": []
    },
    {
      "cell_type": "code",
      "source": [
        "weights = data_frame['Weight(Pounds)']"
      ],
      "metadata": {
        "id": "9YMp5uXpxBd8"
      },
      "execution_count": 4,
      "outputs": []
    },
    {
      "cell_type": "code",
      "source": [
        "weight_mean = weights.mean()\n",
        "weight_sd = weights.std()"
      ],
      "metadata": {
        "id": "0UnD44gGxDAI"
      },
      "execution_count": 5,
      "outputs": []
    },
    {
      "cell_type": "code",
      "source": [
        "print(weight_mean,weight_sd)"
      ],
      "metadata": {
        "id": "wrRRQ5RFxM73",
        "colab": {
          "base_uri": "https://localhost:8080/"
        },
        "outputId": "980ce5ad-acaf-4118-d7aa-1c0d940af972"
      },
      "execution_count": 6,
      "outputs": [
        {
          "output_type": "stream",
          "name": "stdout",
          "text": [
            "127.07942116080001 11.660897563604278\n"
          ]
        }
      ]
    },
    {
      "cell_type": "code",
      "source": [
        "threshold = 3"
      ],
      "metadata": {
        "id": "9BKcbDYaxQtz"
      },
      "execution_count": 7,
      "outputs": []
    },
    {
      "cell_type": "code",
      "source": [
        "outliers = data_frame[(data_frame['Weight(Pounds)'] > ( weight_mean + ( threshold * weight_sd) )) | (data_frame['Weight(Pounds)'] < weight_mean - (threshold * weight_sd))]"
      ],
      "metadata": {
        "id": "apuibMfNxVLI"
      },
      "execution_count": 8,
      "outputs": []
    },
    {
      "cell_type": "code",
      "source": [
        "print(outliers)"
      ],
      "metadata": {
        "colab": {
          "base_uri": "https://localhost:8080/"
        },
        "id": "-n97efFPzg-z",
        "outputId": "1e14a8b3-686e-42d1-a86a-c4c31207edec"
      },
      "execution_count": 9,
      "outputs": [
        {
          "output_type": "stream",
          "name": "stdout",
          "text": [
            "       Index  Weight(Pounds)\n",
            "249      250        84.35980\n",
            "367      368       168.22900\n",
            "446      447       162.41090\n",
            "727      728        83.08527\n",
            "1332    1333       162.87370\n",
            "...      ...             ...\n",
            "21101  21102        85.98927\n",
            "22282  22283        91.37972\n",
            "22738  22739        87.80417\n",
            "22945  22946        78.01476\n",
            "24610  24611        82.38298\n",
            "\n",
            "[69 rows x 2 columns]\n"
          ]
        }
      ]
    }
  ]
}