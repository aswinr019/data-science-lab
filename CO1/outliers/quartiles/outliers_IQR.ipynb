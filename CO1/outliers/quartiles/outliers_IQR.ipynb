{
  "nbformat": 4,
  "nbformat_minor": 0,
  "metadata": {
    "colab": {
      "provenance": []
    },
    "kernelspec": {
      "name": "python3",
      "display_name": "Python 3"
    },
    "language_info": {
      "name": "python"
    }
  },
  "cells": [
    {
      "cell_type": "code",
      "execution_count": 7,
      "metadata": {
        "id": "ASn1MOXsga_E",
        "colab": {
          "base_uri": "https://localhost:8080/"
        },
        "outputId": "fe71fc9c-fd2b-49a7-b54f-ca2cbdec1590"
      },
      "outputs": [
        {
          "output_type": "stream",
          "name": "stdout",
          "text": [
            "Drive already mounted at /content/drive; to attempt to forcibly remount, call drive.mount(\"/content/drive\", force_remount=True).\n"
          ]
        }
      ],
      "source": [
        "from google.colab import drive\n",
        "drive.mount('/content/drive')"
      ]
    },
    {
      "cell_type": "code",
      "source": [
        "import pandas as pd"
      ],
      "metadata": {
        "id": "Mqt_ge8XgiW2"
      },
      "execution_count": 8,
      "outputs": []
    },
    {
      "cell_type": "code",
      "source": [
        "data_frame =  pd.read_csv('/content/drive/My Drive/weightdata.csv')"
      ],
      "metadata": {
        "id": "mJvH8-GlglCV"
      },
      "execution_count": 9,
      "outputs": []
    },
    {
      "cell_type": "code",
      "source": [
        "weights = data_frame['Weight(Pounds)']"
      ],
      "metadata": {
        "id": "HVJRHtspg9Me"
      },
      "execution_count": 10,
      "outputs": []
    },
    {
      "cell_type": "code",
      "source": [
        "Q1 = weights.quantile(0.25)\n",
        "Q3 = weights.quantile(0.75)"
      ],
      "metadata": {
        "id": "0D7Wj0f6hGCu"
      },
      "execution_count": 11,
      "outputs": []
    },
    {
      "cell_type": "code",
      "source": [
        "IQR = Q3 - Q1"
      ],
      "metadata": {
        "id": "53tD7MlThT6C"
      },
      "execution_count": 12,
      "outputs": []
    },
    {
      "cell_type": "code",
      "source": [
        "threshold = 1.5"
      ],
      "metadata": {
        "id": "kQ1QLqK5hWl2"
      },
      "execution_count": 13,
      "outputs": []
    },
    {
      "cell_type": "code",
      "source": [
        "outliers = data_frame[(data_frame['Weight(Pounds)'] > Q3 + ( threshold * IQR ) ) | ( data_frame['Weight(Pounds)'] < ( Q1 - ( threshold * IQR )) )]"
      ],
      "metadata": {
        "id": "kO6jKu1xhZ8-"
      },
      "execution_count": 15,
      "outputs": []
    },
    {
      "cell_type": "code",
      "source": [
        "print(f\"Outliers: {outliers}\")"
      ],
      "metadata": {
        "id": "Q0br0DaGiT5d",
        "colab": {
          "base_uri": "https://localhost:8080/"
        },
        "outputId": "7318e467-d61b-4f0f-cd4d-7773c132550f"
      },
      "execution_count": 16,
      "outputs": [
        {
          "output_type": "stream",
          "name": "stdout",
          "text": [
            "Outliers:        Index  Weight(Pounds)\n",
            "156      157       158.95620\n",
            "249      250        84.35980\n",
            "293      294        92.74955\n",
            "367      368       168.22900\n",
            "446      447       162.41090\n",
            "...      ...             ...\n",
            "24187  24188       161.85040\n",
            "24610  24611        82.38298\n",
            "24750  24751       159.63440\n",
            "24835  24836        94.40946\n",
            "24889  24890       161.85320\n",
            "\n",
            "[191 rows x 2 columns]\n"
          ]
        }
      ]
    }
  ]
}